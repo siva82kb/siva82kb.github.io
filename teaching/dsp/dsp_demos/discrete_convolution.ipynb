{
 "cells": [
  {
   "cell_type": "code",
   "execution_count": 1,
   "metadata": {
    "collapsed": false
   },
   "outputs": [
    {
     "name": "stdout",
     "output_type": "stream",
     "text": [
      "Populating the interactive namespace from numpy and matplotlib\n"
     ]
    }
   ],
   "source": [
    "%pylab inline"
   ]
  },
  {
   "cell_type": "code",
   "execution_count": 2,
   "metadata": {
    "collapsed": true
   },
   "outputs": [],
   "source": [
    "from ipywidgets import interact, interactive, fixed\n",
    "from IPython.display import clear_output, display, HTML\n",
    "\n",
    "from scipy import integrate\n",
    "\n",
    "from matplotlib import pyplot as plt\n",
    "from mpl_toolkits.mplot3d import Axes3D\n",
    "from matplotlib.colors import cnames\n",
    "from matplotlib import animation"
   ]
  },
  {
   "cell_type": "code",
   "execution_count": 5,
   "metadata": {
    "collapsed": true
   },
   "outputs": [],
   "source": [
    "def impulse(n):\n",
    "    return 1. if n == 0. else 0.\n",
    "\n",
    "def step(n):\n",
    "    return 1. if n >= 0. else 0.\n",
    "\n",
    "def sine(w0, n):\n",
    "    return np.sin(w0 * n) if n >= 0. else 0.\n",
    "\n",
    "def get_impulse_response(h, n=(-5, 25)):\n",
    "    print n\n",
    "    _h = np.zeros(n[1] - n[0])\n",
    "    \n",
    "    for i in xrange(len(h)):\n",
    "        _h[np.abs(n[0]) + i] = h[i]\n",
    "    return _h\n",
    "    \n",
    "def convolve(n, h):\n",
    "    k = np.arange(-5, 25)\n",
    "    _h = get_impulse_response(h, (k[0], k[-1] + 1))\n",
    "    # input\n",
    "    _x = np.array([sine(0.764, n - _k) for _k in k])\n",
    "    # product of impulse response and input\n",
    "    _y = np.array([_h[i] * _x[i] for i in xrange(len(_x))])\n",
    "    fig = plt.figure(figsize=(15, 9))\n",
    "    subplot(311)\n",
    "    stem(k, _h)\n",
    "    gca().set_ylim((np.min(_h) - 0.5, np.max(_h) + 0.5))\n",
    "    gca().set_xlim((k[0], k[-1]))\n",
    "    subplot(312)\n",
    "    stem(k, _x)\n",
    "    gca().set_ylim((np.min(_x) - 0.5, np.max(_x) + 0.5))\n",
    "    gca().set_xlim((k[0], k[-1]))\n",
    "    subplot(313)\n",
    "    stem(k, _y)\n",
    "    gca().set_xlim((k[0], k[-1]))\n",
    "    plt.show()\n",
    "    "
   ]
  },
  {
   "cell_type": "code",
   "execution_count": 6,
   "metadata": {
    "collapsed": false
   },
   "outputs": [
    {
     "name": "stdout",
     "output_type": "stream",
     "text": [
      "(-5, 25)\n"
     ]
    },
    {
     "data": {
      "image/png": "[encoded data removed]",
      "text/plain": [
       "<matplotlib.figure.Figure at 0x7fb780127690>"
      ]
     },
     "metadata": {},
     "output_type": "display_data"
    }
   ],
   "source": [
    "interactive(convolve, n=(-5, 25), h=fixed([4,3,2,1,0,1,2]))"
   ]
  },
  {
   "cell_type": "code",
   "execution_count": null,
   "metadata": {
    "collapsed": true
   },
   "outputs": [],
   "source": []
  }
 ],
 "metadata": {
  "kernelspec": {
   "display_name": "Python 2",
   "language": "python",
   "name": "python2"
  },
  "language_info": {
   "codemirror_mode": {
    "name": "ipython",
    "version": 2
   },
   "file_extension": ".py",
   "mimetype": "text/x-python",
   "name": "python",
   "nbconvert_exporter": "python",
   "pygments_lexer": "ipython2",
   "version": "2.7.12"
  },
  "widgets": {
   "state": {
    "e7c5952784ac410b9cba0650714c697c": {
     "views": [
      {
       "cell_index": 3
      }
     ]
    }
   },
   "version": "1.2.0"
  }
 },
 "nbformat": 4,
 "nbformat_minor": 0
}
