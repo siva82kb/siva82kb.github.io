{
 "cells": [
  {
   "cell_type": "code",
   "execution_count": 2,
   "metadata": {},
   "outputs": [
    {
     "name": "stdout",
     "output_type": "stream",
     "text": [
      "Populating the interactive namespace from numpy and matplotlib\n"
     ]
    }
   ],
   "source": [
    "%pylab inline"
   ]
  },
  {
   "cell_type": "code",
   "execution_count": 66,
   "metadata": {},
   "outputs": [
    {
     "name": "stdout",
     "output_type": "stream",
     "text": [
      "1\n"
     ]
    }
   ],
   "source": [
    "nDoors = 3\n",
    "doors = range(0, nDoors)\n",
    "nCar = np.random.randint(0, nDoors)\n",
    "print nCar"
   ]
  },
  {
   "cell_type": "code",
   "execution_count": 156,
   "metadata": {},
   "outputs": [],
   "source": [
    "def reveal_door(nDoors, nCar, nChoice):\n",
    "    _doors = range(0, nDoors)\n",
    "    _doors.pop(_doors.index(n1Choice))\n",
    "    if nCar in _doors:\n",
    "        _doors.pop(_doors.index(nCar))\n",
    "    # Remove the door that is to be revealed.\n",
    "    _door.pop(np.random.randint(0, len(_doors)))\n",
    "    return _doors[0] if len(_doors) != 0 else nCar"
   ]
  },
  {
   "cell_type": "code",
   "execution_count": 308,
   "metadata": {},
   "outputs": [
    {
     "name": "stdout",
     "output_type": "stream",
     "text": [
      "2 0 1\n",
      "You've lost\n"
     ]
    }
   ],
   "source": [
    "# Choose a door.\n",
    "n1Choice = np.random.randint(0, nDoors)\n",
    "# Remaining door.\n",
    "nRemain = reveal_door(nDoors, nCar, n1Choice)\n",
    "print n1Choice, nRemain, nCar\n",
    "if (nRemain == nCar):\n",
    "    print \"\\rYou've won\"\n",
    "else:\n",
    "    print \"\\rYou've lost\""
   ]
  }
 ],
 "metadata": {
  "kernelspec": {
   "display_name": "Python 2",
   "language": "python",
   "name": "python2"
  },
  "language_info": {
   "codemirror_mode": {
    "name": "ipython",
    "version": 2
   },
   "file_extension": ".py",
   "mimetype": "text/x-python",
   "name": "python",
   "nbconvert_exporter": "python",
   "pygments_lexer": "ipython2",
   "version": "2.7.15"
  }
 },
 "nbformat": 4,
 "nbformat_minor": 2
}
